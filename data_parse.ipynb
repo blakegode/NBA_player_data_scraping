{
 "cells": [
  {
   "cell_type": "code",
   "execution_count": 100,
   "id": "e375588d-d0b7-432c-9df5-754017f7a57e",
   "metadata": {},
   "outputs": [],
   "source": [
    "import os\n",
    "from io import StringIO\n",
    "import pandas as pd\n",
    "from bs4 import BeautifulSoup"
   ]
  },
  {
   "cell_type": "code",
   "execution_count": 101,
   "id": "16c2cf12-7abe-4254-9038-f15d2a7886a2",
   "metadata": {},
   "outputs": [],
   "source": [
    "SCORE_DIR = \"data/scores\"\n",
    "box_scores = os.listdir(SCORE_DIR)\n",
    "box_scores = [os.path.join(SCORE_DIR, f) for f in box_scores if f.endswith(\".html\")]"
   ]
  },
  {
   "cell_type": "code",
   "execution_count": 102,
   "id": "6cf92baf-736c-4cb8-a948-dc898914ca4e",
   "metadata": {},
   "outputs": [],
   "source": [
    "def parse_html(box_score):\n",
    "    with open(box_score, encoding=\"utf8\") as f:\n",
    "        html = f.read()\n",
    "\n",
    "    soup = BeautifulSoup(html)\n",
    "    [s.decompose() for s in soup.select(\"tr.over_header\")]\n",
    "    [s.decompose() for s in soup.select(\"tr.thead\")]\n",
    "    return soup"
   ]
  },
  {
   "cell_type": "code",
   "execution_count": 124,
   "id": "79e695dd-c51a-4e27-a533-ac9191865769",
   "metadata": {},
   "outputs": [],
   "source": [
    "def read_stats(soup, team, stat):\n",
    "    df = pd.read_html(StringIO(str(soup)), attrs={\"id\": f\"box-{team}-game-{stat}\"}, index_col=0)[0]\n",
    "    mp_column = df['MP'].replace(\"Did Not Play\", pd.NA)\n",
    "    df = df.drop(columns=['MP']).apply(pd.to_numeric, errors='coerce')\n",
    "    df['MP'] = mp_column\n",
    "    cleaned_df = df.dropna(subset=['MP'])\n",
    "    return cleaned_df"
   ]
  },
  {
   "cell_type": "code",
   "execution_count": 125,
   "id": "c8b57673-acba-4df0-b9e6-ad38d32a648e",
   "metadata": {},
   "outputs": [],
   "source": [
    "def read_teams(soup):\n",
    "    line_score = pd.read_html(StringIO(str(soup)), attrs = {'id': 'line_score'})[0]\n",
    "    teams = line_score[\"Unnamed: 0\"]\n",
    "    return teams"
   ]
  },
  {
   "cell_type": "code",
   "execution_count": 126,
   "id": "be7401a5-ad8c-4448-88f2-df1a404e13e3",
   "metadata": {},
   "outputs": [],
   "source": [
    "def combine_team_stats(soup, team):\n",
    "    basic = read_stats(soup, team, \"basic\")\n",
    "    advanced = read_stats(soup, team, \"advanced\")\n",
    "    combined = pd.merge(basic, advanced, left_index=True, right_index=True, suffixes=('_basic', '_advanced'))\n",
    "    return combined"
   ]
  },
  {
   "cell_type": "code",
   "execution_count": 127,
   "id": "24bdaaa1-cbe7-4c4d-a1a7-70d259a97f7d",
   "metadata": {},
   "outputs": [],
   "source": [
    "box_score = box_scores[0]\n",
    "soup = parse_html(box_score)\n",
    "teams = list(read_teams(soup))\n",
    "summaries = []\n",
    "base_cols = None\n",
    "player_stats = pd.DataFrame()\n",
    "    \n",
    "for team in teams:\n",
    "    basic = read_stats(soup, team, \"basic\")\n",
    "    advanced = read_stats(soup, team, \"advanced\")\n",
    "    advanced = advanced.drop(columns=[\"MP\"])\n",
    "    combined = pd.merge(basic, advanced, left_index=True, right_index=True)\n",
    "    combined = combined.drop(index='Team Totals', errors='ignore')\n",
    "    "
   ]
  },
  {
   "cell_type": "code",
   "execution_count": 128,
   "id": "f678506e-e05b-4751-a8b4-d55f8219ee35",
   "metadata": {},
   "outputs": [
    {
     "data": {
      "text/plain": [
       "Starters\n",
       "Nikola Jokić                36:16\n",
       "Kentavious Caldwell-Pope    36:15\n",
       "Aaron Gordon                34:59\n",
       "Jamal Murray                34:15\n",
       "Michael Porter Jr.          30:08\n",
       "Reggie Jackson              24:04\n",
       "Christian Braun             19:20\n",
       "Zeke Nnaji                  11:44\n",
       "Peyton Watson               10:50\n",
       "Jalen Pickett                0:43\n",
       "Collin Gillespie             0:43\n",
       "Braxton Key                  0:43\n",
       "Name: MP, dtype: object"
      ]
     },
     "execution_count": 128,
     "metadata": {},
     "output_type": "execute_result"
    }
   ],
   "source": [
    "combined[\"MP\"]"
   ]
  },
  {
   "cell_type": "code",
   "execution_count": null,
   "id": "1fd89119-6d4e-4412-a7cf-b9e4997e4435",
   "metadata": {},
   "outputs": [],
   "source": [
    "games = []\n",
    "base_cols = None\n",
    "for box_score in box_scores:\n",
    "    soup = parse_html(box_score)\n",
    "    teams = list(read_teams(soup))\n",
    "    summaries = []\n",
    "    \n",
    "    for team in teams:\n",
    "        basic = read_stats(soup, team, \"basic\")\n",
    "        advanced = read_stats(soup, team, \"advanced\")\n",
    "        summary = pd.concat([basic, advanced])\n",
    "        \n",
    "        if base_cols is None:\n",
    "            base_cols = list(summary.index.drop_duplicates(keep=\"first\"))\n",
    "            base_cols = [b for b in base_cols if \"bpm\" not in b]\n",
    "        summary"
   ]
  },
  {
   "cell_type": "code",
   "execution_count": null,
   "id": "60324d53-58f5-45a5-afea-4131a0753a91",
   "metadata": {},
   "outputs": [],
   "source": [
    "if base_cols is None:\n",
    "        base_cols = list(summary.index.drop_duplicates(keep=\"first\"))\n",
    "        base_cols = [b for b in base_cols if \"bpm\" not in b]\n",
    "\n",
    "summary = summary[base_cols]\n",
    "        \n",
    "        summaries.append(summary)\n",
    "    summary = pd.concat(summaries, axis=1).T\n",
    "\n",
    "    summary[\"home\"] = [0,1]\n",
    "\n",
    "    game_opp = game.iloc[::-1].reset_index()\n",
    "    game_opp.columns += \"_opp\"\n",
    "\n",
    "    full_game = pd.concat([game, game_opp], axis=1)\n",
    "    full_game[\"season\"] = read_season_info(soup)\n",
    "    \n",
    "    full_game[\"date\"] = os.path.basename(box_score)[:8]\n",
    "    full_game[\"date\"] = pd.to_datetime(full_game[\"date\"], format=\"%Y%m%d\")\n",
    "    \n",
    "    full_game[\"won\"] = full_game[\"total\"] > full_game[\"total_opp\"]\n",
    "    games.append(full_game)\n",
    "    \n",
    "    if len(games) % 100 == 0:\n",
    "        print(f\"{len(games)} / {len(box_scores)}\")"
   ]
  }
 ],
 "metadata": {
  "kernelspec": {
   "display_name": "Python 3 (ipykernel)",
   "language": "python",
   "name": "python3"
  },
  "language_info": {
   "codemirror_mode": {
    "name": "ipython",
    "version": 3
   },
   "file_extension": ".py",
   "mimetype": "text/x-python",
   "name": "python",
   "nbconvert_exporter": "python",
   "pygments_lexer": "ipython3",
   "version": "3.11.7"
  }
 },
 "nbformat": 4,
 "nbformat_minor": 5
}
