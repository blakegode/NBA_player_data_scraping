{
 "cells": [
  {
   "cell_type": "code",
   "execution_count": 3,
   "id": "e375588d-d0b7-432c-9df5-754017f7a57e",
   "metadata": {},
   "outputs": [],
   "source": [
    "import os\n",
    "from io import StringIO\n",
    "import pandas as pd\n",
    "from bs4 import BeautifulSoup"
   ]
  },
  {
   "cell_type": "code",
   "execution_count": 4,
   "id": "16c2cf12-7abe-4254-9038-f15d2a7886a2",
   "metadata": {},
   "outputs": [],
   "source": [
    "SCORE_DIR = \"data/scores\"\n",
    "box_scores = os.listdir(SCORE_DIR)\n",
    "box_scores = [os.path.join(SCORE_DIR, f) for f in box_scores if f.endswith(\".html\")]"
   ]
  },
  {
   "cell_type": "code",
   "execution_count": 5,
   "id": "6cf92baf-736c-4cb8-a948-dc898914ca4e",
   "metadata": {},
   "outputs": [],
   "source": [
    "def parse_html(box_score):\n",
    "    with open(box_score, encoding=\"utf8\") as f:\n",
    "        html = f.read()\n",
    "\n",
    "    soup = BeautifulSoup(html)\n",
    "    [s.decompose() for s in soup.select(\"tr.over_header\")]\n",
    "    [s.decompose() for s in soup.select(\"tr.thead\")]\n",
    "    return soup"
   ]
  },
  {
   "cell_type": "code",
   "execution_count": 6,
   "id": "79e695dd-c51a-4e27-a533-ac9191865769",
   "metadata": {},
   "outputs": [],
   "source": [
    "def read_stats(soup, team, stat):\n",
    "    df = pd.read_html(StringIO(str(soup)), attrs={\"id\": f\"box-{team}-game-{stat}\"}, index_col=0)[0]\n",
    "    mp_column = df['MP'].replace(\"Did Not Play\", pd.NA)\n",
    "    df = df.drop(columns=['MP']).apply(pd.to_numeric, errors='coerce')\n",
    "    df['MP'] = mp_column\n",
    "    cleaned_df = df.dropna(subset=['MP'])\n",
    "    return cleaned_df"
   ]
  },
  {
   "cell_type": "code",
   "execution_count": 7,
   "id": "c8b57673-acba-4df0-b9e6-ad38d32a648e",
   "metadata": {},
   "outputs": [],
   "source": [
    "def read_teams(soup):\n",
    "    line_score = pd.read_html(StringIO(str(soup)), attrs = {'id': 'line_score'})[0]\n",
    "    teams = line_score[\"Unnamed: 0\"]\n",
    "    return teams"
   ]
  },
  {
   "cell_type": "code",
   "execution_count": 8,
   "id": "be7401a5-ad8c-4448-88f2-df1a404e13e3",
   "metadata": {},
   "outputs": [],
   "source": [
    "def combine_team_stats(soup, team):\n",
    "    basic = read_stats(soup, team, \"basic\")\n",
    "    advanced = read_stats(soup, team, \"advanced\")\n",
    "    combined = pd.merge(basic, advanced, left_index=True, right_index=True, suffixes=('_basic', '_advanced'))\n",
    "    return combined"
   ]
  },
  {
   "cell_type": "code",
   "execution_count": 9,
   "id": "9e0260e4-71f5-4b27-955f-879c3efd0e8d",
   "metadata": {},
   "outputs": [],
   "source": [
    "def read_season_info(soup):\n",
    "    nav = soup.select(\"#bottom_nav_container\")[0]\n",
    "    hrefs = [a[\"href\"] for a in nav.find_all(\"a\")]\n",
    "    season = os.path.basename(hrefs[1]).split(\"_\")[0]\n",
    "    return season"
   ]
  },
  {
   "cell_type": "code",
   "execution_count": 10,
   "id": "9652201d-b5d4-4f95-9325-3e238c043863",
   "metadata": {},
   "outputs": [],
   "source": [
    "def add_highest_scoring_teamate(df):\n",
    "    highest_scoring_teammate = pd.Series(index=df.index)\n",
    "    total, highest, second_highest = df['PTS'].nlargest(3)\n",
    "    for index in df.index:\n",
    "        if df['PTS'][index] == highest:\n",
    "            highest_scoring_teammate[index] = second_highest\n",
    "        else:\n",
    "            highest_scoring_teammate[index] = highest\n",
    "    return highest_scoring_teammate"
   ]
  },
  {
   "cell_type": "code",
   "execution_count": null,
   "id": "24bdaaa1-cbe7-4c4d-a1a7-70d259a97f7d",
   "metadata": {},
   "outputs": [
    {
     "name": "stdout",
     "output_type": "stream",
     "text": [
      "100 / 1319\n",
      "200 / 1319\n"
     ]
    }
   ],
   "source": [
    "games = []\n",
    "\n",
    "for box_score in box_scores:\n",
    "    soup = parse_html(box_score)\n",
    "    teams = list(read_teams(soup))\n",
    "    team1 = pd.DataFrame()\n",
    "    for team in teams:\n",
    "        basic = read_stats(soup, team, \"basic\")\n",
    "        advanced = read_stats(soup, team, \"advanced\")\n",
    "        advanced = advanced.drop(columns=[\"MP\"])\n",
    "        combined = pd.merge(basic, advanced, left_index=True, right_index=True)\n",
    "        combined[\"home\"] = 1\n",
    "        if team1.empty:\n",
    "            team1 = combined\n",
    "            team1['team'] = team\n",
    "            team1[\"home\"] = 0\n",
    "            team1_DRtg = team1[\"DRtg\"][\"Team Totals\"]\n",
    "            team1['highest_scoring_teammate'] = add_highest_scoring_teamate(team1)\n",
    "        combined[\"opp_team_DRtg\"] = team1_DRtg\n",
    "        combined['team'] = team\n",
    "        combined['highest_scoring_teammate'] = add_highest_scoring_teamate(combined)\n",
    "        team1[\"opp_team_DRtg\"] = combined[\"DRtg\"][\"Team Totals\"]\n",
    "        game = pd.concat([team1, combined])\n",
    "        game = game.rename_axis('Player Name')\n",
    "        game = game.drop(index='Team Totals', errors='ignore')\n",
    "        game[\"season\"] = read_season_info(soup)\n",
    "        game[\"date\"] = os.path.basename(box_score)[:8]\n",
    "        game[\"date\"] = pd.to_datetime(game[\"date\"], format=\"%Y%m%d\")\n",
    "        games.append(game)\n",
    "        if len(games) % 100 == 0:\n",
    "            print(f\"{len(games)} / {len(box_scores)}\")"
   ]
  },
  {
   "cell_type": "code",
   "execution_count": 357,
   "id": "f678506e-e05b-4751-a8b4-d55f8219ee35",
   "metadata": {},
   "outputs": [],
   "source": [
    "games_df = pd.concat(games, ignore_index=False)"
   ]
  },
  {
   "cell_type": "code",
   "execution_count": 362,
   "id": "79055bc5-f716-4bcb-ab84-82e71594025d",
   "metadata": {},
   "outputs": [],
   "source": [
    "indexs = games_df.index\n",
    "games_df['player'] = indexs"
   ]
  },
  {
   "cell_type": "code",
   "execution_count": 2,
   "id": "22f0e44d-eab1-4928-95bc-2c14c737e0c1",
   "metadata": {},
   "outputs": [
    {
     "ename": "NameError",
     "evalue": "name 'games_df' is not defined",
     "output_type": "error",
     "traceback": [
      "\u001b[1;31m---------------------------------------------------------------------------\u001b[0m",
      "\u001b[1;31mNameError\u001b[0m                                 Traceback (most recent call last)",
      "Cell \u001b[1;32mIn[2], line 1\u001b[0m\n\u001b[1;32m----> 1\u001b[0m games_df \u001b[38;5;241m=\u001b[39m games_df\u001b[38;5;241m.\u001b[39mreset_index()\n\u001b[0;32m      2\u001b[0m games_df \u001b[38;5;241m=\u001b[39m games_df\u001b[38;5;241m.\u001b[39mdrop(\u001b[38;5;124m'\u001b[39m\u001b[38;5;124mUnnamed: 16\u001b[39m\u001b[38;5;124m'\u001b[39m, axis\u001b[38;5;241m=\u001b[39m\u001b[38;5;241m1\u001b[39m)\n\u001b[0;32m      3\u001b[0m games_df\n",
      "\u001b[1;31mNameError\u001b[0m: name 'games_df' is not defined"
     ]
    }
   ],
   "source": [
    "games_df = games_df.reset_index()\n",
    "games_df = games_df.drop('Unnamed: 16', axis=1)\n",
    "games_df"
   ]
  },
  {
   "cell_type": "code",
   "execution_count": 374,
   "id": "e8712183-7d26-421a-bde4-a78589afe8d3",
   "metadata": {},
   "outputs": [
    {
     "data": {
      "text/plain": [
       "[]"
      ]
     },
     "execution_count": 374,
     "metadata": {},
     "output_type": "execute_result"
    }
   ],
   "source": [
    "[g.shape[1] for g in games if g.shape[1] != 41]"
   ]
  },
  {
   "cell_type": "code",
   "execution_count": 375,
   "id": "90eabf86-6c31-4b70-9f9d-88a65beaadcb",
   "metadata": {},
   "outputs": [],
   "source": [
    "games_df.to_csv(\"nba_games.csv\")"
   ]
  },
  {
   "cell_type": "code",
   "execution_count": null,
   "id": "38010e9e-a285-499c-ae3a-26ebbf66fa0e",
   "metadata": {},
   "outputs": [],
   "source": []
  }
 ],
 "metadata": {
  "kernelspec": {
   "display_name": "Python 3 (ipykernel)",
   "language": "python",
   "name": "python3"
  },
  "language_info": {
   "codemirror_mode": {
    "name": "ipython",
    "version": 3
   },
   "file_extension": ".py",
   "mimetype": "text/x-python",
   "name": "python",
   "nbconvert_exporter": "python",
   "pygments_lexer": "ipython3",
   "version": "3.11.7"
  }
 },
 "nbformat": 4,
 "nbformat_minor": 5
}
